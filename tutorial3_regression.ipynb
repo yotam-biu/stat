{
  "nbformat": 4,
  "nbformat_minor": 0,
  "metadata": {
    "colab": {
      "provenance": [],
      "authorship_tag": "ABX9TyNJ0MfuO6uTg+6NRYL/ikpu",
      "include_colab_link": true
    },
    "kernelspec": {
      "name": "python3",
      "display_name": "Python 3"
    },
    "language_info": {
      "name": "python"
    }
  },
  "cells": [
    {
      "cell_type": "markdown",
      "metadata": {
        "id": "view-in-github",
        "colab_type": "text"
      },
      "source": [
        "<a href=\"https://colab.research.google.com/github/yotam-biu/stat/blob/main/tutorial3_regression.ipynb\" target=\"_parent\"><img src=\"https://colab.research.google.com/assets/colab-badge.svg\" alt=\"Open In Colab\"/></a>"
      ]
    },
    {
      "cell_type": "code",
      "source": [
        "import numpy as np\n",
        "from scipy.stats import linregress"
      ],
      "metadata": {
        "id": "6Y7gDw2fwEom"
      },
      "execution_count": 1,
      "outputs": []
    },
    {
      "cell_type": "code",
      "execution_count": 2,
      "metadata": {
        "id": "Lbyd218pt_BN"
      },
      "outputs": [],
      "source": [
        "x = np.array([1,2,3,4])\n",
        "y = np.array([2.5,4,4,7])"
      ]
    },
    {
      "cell_type": "code",
      "source": [
        "xmean = np.mean(x)\n",
        "ymean = np.mean(y)\n",
        "x_xmean = x - xmean\n",
        "y_ymean = y - ymean\n",
        "x_xmean_y_ymean = x_xmean * y_ymean\n",
        "x_xmean_squared = x_xmean ** 2\n",
        "numinator = np.sum(x_xmean_y_ymean)\n",
        "denominator = np.sum(x_xmean_squared)\n",
        "slope = numinator / denominator\n",
        "intercept = ymean - (slope * xmean)\n",
        "print(f\"Slope: {slope}\")\n",
        "print(f\"Intercept: {intercept}\")"
      ],
      "metadata": {
        "id": "R-XnJ1giwR5J",
        "colab": {
          "base_uri": "https://localhost:8080/"
        },
        "outputId": "76fafbb9-fdc3-4206-f0b2-258cb8e054a1"
      },
      "execution_count": 4,
      "outputs": [
        {
          "output_type": "stream",
          "name": "stdout",
          "text": [
            "Slope: 1.35\n",
            "Intercept: 1.0\n"
          ]
        }
      ]
    },
    {
      "cell_type": "code",
      "source": [
        "slope, intercept, r_value, p_value, std_err = linregress(x, y)\n",
        "\n",
        "print(f\"Slope: {slope}\")\n",
        "print(f\"Intercept: {intercept}\")\n",
        "print(f\"R-squared: {r_value**2}\")"
      ],
      "metadata": {
        "id": "VI3gQ_VavdhD",
        "colab": {
          "base_uri": "https://localhost:8080/"
        },
        "outputId": "f38a9837-6713-48a5-e384-ddf6a66da01a"
      },
      "execution_count": 5,
      "outputs": [
        {
          "output_type": "stream",
          "name": "stdout",
          "text": [
            "Slope: 1.35\n",
            "Intercept: 1.0\n",
            "R-squared: 0.8526315789473684\n"
          ]
        }
      ]
    },
    {
      "cell_type": "code",
      "source": [],
      "metadata": {
        "id": "Ft2QXdJwwau5"
      },
      "execution_count": null,
      "outputs": []
    }
  ]
}