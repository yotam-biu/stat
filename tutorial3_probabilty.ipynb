{
  "nbformat": 4,
  "nbformat_minor": 0,
  "metadata": {
    "colab": {
      "provenance": [],
      "authorship_tag": "ABX9TyOuiSYzhPhcAA2MueDgbhAj",
      "include_colab_link": true
    },
    "kernelspec": {
      "name": "python3",
      "display_name": "Python 3"
    },
    "language_info": {
      "name": "python"
    }
  },
  "cells": [
    {
      "cell_type": "markdown",
      "metadata": {
        "id": "view-in-github",
        "colab_type": "text"
      },
      "source": [
        "<a href=\"https://colab.research.google.com/github/yotam-biu/stat/blob/main/tutorial3_probabilty.ipynb\" target=\"_parent\"><img src=\"https://colab.research.google.com/assets/colab-badge.svg\" alt=\"Open In Colab\"/></a>"
      ]
    },
    {
      "cell_type": "markdown",
      "source": [
        " The probability that all `num` people have different birthdays is:\n",
        "\n",
        "$$\n",
        "\\prod_{n=0}^{\\text{N}-1} \\frac{(365 - n)}{365} = \\frac{\\prod_{n=0}^{\\text{N}-1} (365 - n)}{365^{\\text{N}}}\n",
        "$$\n",
        "\n",
        "\n"
      ],
      "metadata": {
        "id": "4KnrIliaw48K"
      }
    },
    {
      "cell_type": "code",
      "execution_count": 8,
      "metadata": {
        "colab": {
          "base_uri": "https://localhost:8080/"
        },
        "id": "ayDOUOZtsHtD",
        "outputId": "e32d04b2-4b61-4925-fd7d-0ebfc9b11e17"
      },
      "outputs": [
        {
          "output_type": "execute_result",
          "data": {
            "text/plain": [
              "0.0296264204220116"
            ]
          },
          "metadata": {},
          "execution_count": 8
        }
      ],
      "source": [
        "N = 50\n",
        "\n",
        "numerator = 1\n",
        "for n in range(N):\n",
        "    numerator *= 365 - n\n",
        "\n",
        "denominator = 365 ** N\n",
        "\n",
        "numerator/denominator\n"
      ]
    },
    {
      "cell_type": "code",
      "source": [],
      "metadata": {
        "id": "xojaMbBWsTTb"
      },
      "execution_count": null,
      "outputs": []
    }
  ]
}